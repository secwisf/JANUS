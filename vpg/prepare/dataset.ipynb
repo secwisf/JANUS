{
 "cells": [
  {
   "cell_type": "code",
   "execution_count": 1,
   "id": "initial_id",
   "metadata": {
    "collapsed": true,
    "ExecuteTime": {
     "end_time": "2024-02-18T15:34:07.553445472Z",
     "start_time": "2024-02-18T15:34:07.147577190Z"
    }
   },
   "outputs": [],
   "source": [
    "import sys,os\n",
    "path = os.path.dirname(os.path.dirname(\"/home/jrj/postgraduate/vpg/prepare/dataset.ipynb\"))\n",
    "sys.path.append(path)\n",
    "from utils.sol_utils import all_path, get_solc_version, is_mapping_type, is_number_type\n",
    "from tqdm import tqdm\n",
    "from prepare.graph import SolidityInfo\n",
    "from thefuzz import fuzz"
   ]
  },
  {
   "cell_type": "code",
   "execution_count": 6,
   "id": "875d0fa63777a4fb",
   "metadata": {
    "ExecuteTime": {
     "end_time": "2023-12-13T06:28:18.927708341Z",
     "start_time": "2023-12-13T06:28:18.786644571Z"
    },
    "collapsed": false
   },
   "outputs": [],
   "source": [
    "files = all_path(\"/home/jrj/postgraduate/Ethereum_smart_contract_datast/Ethereum_smart_contract_datast/contract_dataset_ethereum/\", [\".sol\"])\n",
    "success_files = []\n",
    "error_files = []\n",
    "mapping_vars_dict = dict()"
   ]
  },
  {
   "cell_type": "code",
   "execution_count": 8,
   "id": "2f5526b73ecad176",
   "metadata": {
    "collapsed": false
   },
   "outputs": [
    {
     "name": "stdout",
     "output_type": "stream",
     "text": [
      "success files:29956\n",
      "error files:10793\n",
      "success percentage:0.7351346045301725\n"
     ]
    }
   ],
   "source": [
    "print(f\"success files:{len(success_files)}\")\n",
    "print(f\"error files:{len(error_files)}\")\n",
    "print(f\"success percentage:{len(success_files)/len(files)}\")"
   ]
  },
  {
   "cell_type": "code",
   "execution_count": 3,
   "id": "f91d0f0131796713",
   "metadata": {
    "ExecuteTime": {
     "end_time": "2024-02-18T15:35:00.220653017Z",
     "start_time": "2024-02-18T15:35:00.142923559Z"
    }
   },
   "outputs": [
    {
     "ename": "NameError",
     "evalue": "name 'success_files' is not defined",
     "output_type": "error",
     "traceback": [
      "\u001B[0;31m---------------------------------------------------------------------------\u001B[0m",
      "\u001B[0;31mNameError\u001B[0m                                 Traceback (most recent call last)",
      "Cell \u001B[0;32mIn[3], line 3\u001B[0m\n\u001B[1;32m      1\u001B[0m \u001B[38;5;28;01mimport\u001B[39;00m \u001B[38;5;21;01mpickle\u001B[39;00m\n\u001B[1;32m      2\u001B[0m \u001B[38;5;28;01mwith\u001B[39;00m \u001B[38;5;28mopen\u001B[39m(\u001B[38;5;124m\"\u001B[39m\u001B[38;5;124m../data/graph_v3/success_files.pkl\u001B[39m\u001B[38;5;124m\"\u001B[39m, \u001B[38;5;124m\"\u001B[39m\u001B[38;5;124mwb\u001B[39m\u001B[38;5;124m\"\u001B[39m) \u001B[38;5;28;01mas\u001B[39;00m fw:\n\u001B[0;32m----> 3\u001B[0m     pickle\u001B[38;5;241m.\u001B[39mdump(\u001B[43msuccess_files\u001B[49m, fw)\n\u001B[1;32m      4\u001B[0m \u001B[38;5;28;01mwith\u001B[39;00m \u001B[38;5;28mopen\u001B[39m(\u001B[38;5;124m\"\u001B[39m\u001B[38;5;124m../data/graph_v3/error_files.pkl\u001B[39m\u001B[38;5;124m\"\u001B[39m, \u001B[38;5;124m\"\u001B[39m\u001B[38;5;124mwb\u001B[39m\u001B[38;5;124m\"\u001B[39m) \u001B[38;5;28;01mas\u001B[39;00m fw:\n\u001B[1;32m      5\u001B[0m     pickle\u001B[38;5;241m.\u001B[39mdump(error_files, fw)\n",
      "\u001B[0;31mNameError\u001B[0m: name 'success_files' is not defined"
     ]
    }
   ],
   "source": [
    "import pickle\n",
    "with open(\"../data/graph_v3/success_files.pkl\", \"wb\") as fw:\n",
    "    pickle.dump(success_files, fw)\n",
    "with open(\"../data/graph_v3/error_files.pkl\", \"wb\") as fw:\n",
    "    pickle.dump(error_files, fw)\n",
    "with open(\"../data/graph_v3/mapping_vars_dict.pkl\", \"wb\") as fw:\n",
    "    pickle.dump(mapping_vars_dict, fw)"
   ]
  },
  {
   "cell_type": "code",
   "execution_count": 2,
   "id": "a72129b1",
   "metadata": {
    "ExecuteTime": {
     "end_time": "2023-12-15T06:31:55.659396677Z",
     "start_time": "2023-12-15T06:31:55.531400934Z"
    }
   },
   "outputs": [],
   "source": [
    "import pickle\n",
    "with open(\"../data/graph_v2/mapping_vars_dict.pkl\", \"rb\") as fr:\n",
    "    mapping_vars_dict = pickle.load(fr)\n",
    "with open(\"../data/graph_v2/error_files.pkl\", \"rb\") as fr:\n",
    "    error_files = pickle.load(fr)\n",
    "with open(\"../data/graph_v2/success_files.pkl\", \"rb\") as fr:\n",
    "    success_files = pickle.load(fr)"
   ]
  },
  {
   "cell_type": "code",
   "execution_count": 9,
   "id": "18aa9aeaabde691e",
   "metadata": {
    "ExecuteTime": {
     "end_time": "2023-12-13T06:28:33.070219654Z",
     "start_time": "2023-12-13T06:28:33.032108487Z"
    }
   },
   "outputs": [
    {
     "name": "stdout",
     "output_type": "stream",
     "text": [
      "total:48759\n",
      "num_true:0.4208453823909432\n",
      "num_false:0.5791546176090568\n"
     ]
    }
   ],
   "source": [
    "num_mapping = 0\n",
    "num_true = 0\n",
    "num_false = 0\n",
    "special_list = []\n",
    "for file in mapping_vars_dict:\n",
    "    var_list = mapping_vars_dict[file]\n",
    "    if len(var_list) >2:\n",
    "        special_list.append(file)\n",
    "    num_mapping += len(var_list)\n",
    "    for var in var_list:\n",
    "        if var[-1] == 1:\n",
    "            num_true += 1\n",
    "        else:\n",
    "            num_false += 1\n",
    "print(f\"total:{num_mapping}\")\n",
    "print(f\"num_true:{num_true/num_mapping}\")\n",
    "print(f\"num_false:{num_false/num_mapping}\")"
   ]
  },
  {
   "cell_type": "code",
   "execution_count": 2,
   "id": "59a8f599a7a908da",
   "metadata": {
    "ExecuteTime": {
     "end_time": "2023-12-02T06:25:01.767281639Z",
     "start_time": "2023-12-02T06:25:01.712733883Z"
    }
   },
   "outputs": [],
   "source": [
    "error_vpg_list = []"
   ]
  },
  {
   "cell_type": "code",
   "execution_count": 3,
   "id": "d5fb51708f83948b",
   "metadata": {
    "collapsed": false,
    "ExecuteTime": {
     "end_time": "2023-12-15T06:32:01.535381087Z",
     "start_time": "2023-12-15T06:32:00.814421504Z"
    }
   },
   "outputs": [],
   "source": [
    "with open(\"../data/graph_v2/graph_data_0.pkl\", \"rb\") as fr:\n",
    "    graph_data_0 = pickle.load(fr)"
   ]
  },
  {
   "cell_type": "code",
   "execution_count": 4,
   "id": "74261a2a01984adc",
   "metadata": {
    "ExecuteTime": {
     "start_time": "2023-12-01T02:57:06.731746547Z"
    },
    "is_executing": true
   },
   "outputs": [
    {
     "name": "stderr",
     "output_type": "stream",
     "text": [
      " 57%|█████▋    | 16195/28179 [8:58:43<18:12:35,  5.47s/it] "
     ]
    }
   ],
   "source": [
    "from prepare.graph import VPG\n",
    "graph_data = {}\n",
    "label_data = {}\n",
    "files = list(mapping_vars_dict.keys())\n",
    "batch_size = 1000\n",
    "for index in tqdm(range(len(files))):\n",
    "    if index % batch_size == 0:\n",
    "        graph_data = {}\n",
    "        label_data = {}\n",
    "    file = files[index]\n",
    "    mapping_vars_name = mapping_vars_dict[file]\n",
    "    mapping_vars_node = []\n",
    "    mapping_vars_label = {}\n",
    "    if len(mapping_vars_dict[file]) == 0: continue\n",
    "    try:\n",
    "        solc_version = get_solc_version(file)\n",
    "        solc_version = f'/home/jrj/.solc-select/artifacts/solc-{solc_version}/solc-{solc_version}'\n",
    "        sol = SolidityInfo(file, solc=solc_version)\n",
    "        top_contracts = sol.top_contracts\n",
    "        for tc in top_contracts:\n",
    "            mapping_vars_node += list(filter(lambda x: is_mapping_type(x.type), tc.state_variables))\n",
    "        graph = VPG(sol)\n",
    "        for name, label in mapping_vars_name:\n",
    "            for node in mapping_vars_node:\n",
    "                if name == node.canonical_name and node in graph.nodes_index:\n",
    "                    mapping_vars_label[graph.nodes_index[node][0]] = label\n",
    "                    break\n",
    "        label_data[file] = mapping_vars_label\n",
    "        graph_data[file] = {\n",
    "            \"nodes_index\": list(graph.nodes_index.values()),\n",
    "            \"edges\": graph.edges\n",
    "        }\n",
    "        if index % batch_size == 0:\n",
    "            with open(f\"../data/graph_data_{str(index/batch_size)}.pkl\", \"wb\") as fw:\n",
    "                pickle.dump(graph_data, fw)\n",
    "            with open(f\"../data/label_data_{str(index/batch_size)}.pkl\", \"wb\") as fw:\n",
    "                pickle.dump(graph_data, fw)\n",
    "    except Exception as e:\n",
    "        error_vpg_list.append(file)"
   ]
  },
  {
   "cell_type": "code",
   "execution_count": 8,
   "id": "5f6c6eaf0243efe",
   "metadata": {
    "ExecuteTime": {
     "end_time": "2023-12-02T06:58:59.060047186Z",
     "start_time": "2023-12-02T06:46:06.989453942Z"
    },
    "collapsed": false
   },
   "outputs": [
    {
     "name": "stderr",
     "output_type": "stream",
     "text": [
      "100%|██████████| 1000/1000 [12:51<00:00,  1.30it/s] \n"
     ]
    }
   ],
   "source": [
    "import pickle\n",
    "from prepare.graph import VPG\n",
    "with open(\"../data/mapping_vars_dict.pkl\", \"rb\") as fr:\n",
    "    mapping_vars_dict = pickle.load(fr)\n",
    "files = list(mapping_vars_dict)\n",
    "index = 1\n",
    "batch_size = 1000\n",
    "graph_data = {}\n",
    "label_data = {}\n",
    "for file in tqdm(files[index * batch_size:(index + 1) * batch_size]):\n",
    "    mapping_vars_name = mapping_vars_dict[file]\n",
    "    mapping_vars_node = []\n",
    "    mapping_vars_label = {}\n",
    "    if len(mapping_vars_dict[file]) == 0: continue\n",
    "    try:\n",
    "        solc_version = get_solc_version(file)\n",
    "        solc_version = f'/home/jrj/.solc-select/artifacts/solc-{solc_version}/solc-{solc_version}'\n",
    "        sol = SolidityInfo(file, solc=solc_version)\n",
    "        top_contracts = sol.top_contracts\n",
    "        for tc in top_contracts:\n",
    "            mapping_vars_node += list(filter(lambda x: is_mapping_type(x.type), tc.state_variables))\n",
    "        graph = VPG(sol)\n",
    "        for name, label in mapping_vars_name:\n",
    "            for node in mapping_vars_node:\n",
    "                if name == node.canonical_name and node in graph.nodes_index:\n",
    "                    mapping_vars_label[graph.nodes_index[node][0]] = label\n",
    "                    break\n",
    "        label_data[file] = mapping_vars_label\n",
    "        graph_data[file] = {\n",
    "            \"nodes_index\": list(graph.nodes_index.values()),\n",
    "            \"edges\": list(graph.edges)\n",
    "        }\n",
    "    except Exception as e:\n",
    "        print(e)\n",
    "        error_vpg_list.append(file)"
   ]
  },
  {
   "cell_type": "code",
   "execution_count": 3,
   "id": "c30ec3d3f0b71bb7",
   "metadata": {
    "ExecuteTime": {
     "end_time": "2023-12-02T07:04:46.299923451Z",
     "start_time": "2023-12-02T07:04:46.025404747Z"
    },
    "collapsed": false
   },
   "outputs": [
    {
     "data": {
      "text/plain": [
       "[['ERC223BasicToken.balances', 1], ['StandardToken.allowed', 0]]"
      ]
     },
     "execution_count": 3,
     "metadata": {},
     "output_type": "execute_result"
    }
   ],
   "source": [
    "mapping_vars_dict['/home/jrj/postgraduate/Ethereum_smart_contract_datast/Ethereum_smart_contract_datast/contract_dataset_ethereum/contract37/36745.sol']"
   ]
  },
  {
   "cell_type": "code",
   "execution_count": 13,
   "id": "782c8a8830184ce8",
   "metadata": {
    "ExecuteTime": {
     "end_time": "2023-12-02T07:10:38.347739804Z",
     "start_time": "2023-12-02T07:10:38.191920241Z"
    },
    "collapsed": false
   },
   "outputs": [],
   "source": [
    "g = graph_data[\"/home/jrj/postgraduate/Ethereum_smart_contract_datast/Ethereum_smart_contract_datast/contract_dataset_ethereum/contract17/16244.sol\"]"
   ]
  },
  {
   "cell_type": "code",
   "execution_count": 1,
   "id": "b6d63a9153f9588d",
   "metadata": {
    "ExecuteTime": {
     "end_time": "2023-12-02T07:27:32.335571595Z",
     "start_time": "2023-12-02T07:27:32.053994392Z"
    },
    "collapsed": false
   },
   "outputs": [],
   "source": [
    "import pickle\n",
    "with open(\"/home/jrj/postgraduate/vpg/data/graph_data_1.pkl\",\"rb\") as fr:\n",
    "    a = pickle.load(fr)"
   ]
  },
  {
   "cell_type": "code",
   "execution_count": 1,
   "id": "754eee90e92bdc11",
   "metadata": {
    "ExecuteTime": {
     "end_time": "2023-12-12T12:58:50.354552182Z",
     "start_time": "2023-12-12T12:58:48.922111541Z"
    },
    "collapsed": false
   },
   "outputs": [],
   "source": [
    "from torch import nn\n",
    "import torch"
   ]
  },
  {
   "cell_type": "code",
   "execution_count": 3,
   "id": "ba6b696fe054cdbe",
   "metadata": {
    "ExecuteTime": {
     "end_time": "2023-12-12T12:45:02.136151725Z",
     "start_time": "2023-12-12T12:45:02.103417588Z"
    },
    "collapsed": false
   },
   "outputs": [],
   "source": [
    "loss = nn.CrossEntropyLoss()\n",
    "input = torch.randn(3, 2, requires_grad=True)\n",
    "target = torch.empty(3, dtype=torch.long).random_(2)\n"
   ]
  },
  {
   "cell_type": "code",
   "execution_count": 4,
   "id": "2ca73a90a2eb1f6d",
   "metadata": {
    "ExecuteTime": {
     "end_time": "2023-12-12T12:45:22.080834102Z",
     "start_time": "2023-12-12T12:45:21.950752574Z"
    },
    "collapsed": false
   },
   "outputs": [],
   "source": [
    "output = loss(input, target)"
   ]
  },
  {
   "cell_type": "code",
   "execution_count": 5,
   "id": "3f8052c7d7d6b3c2",
   "metadata": {
    "ExecuteTime": {
     "end_time": "2023-12-12T12:46:54.312238576Z",
     "start_time": "2023-12-12T12:46:54.139200177Z"
    },
    "collapsed": false
   },
   "outputs": [],
   "source": [
    "output.backward()"
   ]
  },
  {
   "cell_type": "code",
   "execution_count": 8,
   "id": "33d1d56f048eeff9",
   "metadata": {
    "ExecuteTime": {
     "end_time": "2023-12-12T12:48:17.430518985Z",
     "start_time": "2023-12-12T12:48:17.321644385Z"
    },
    "collapsed": false
   },
   "outputs": [],
   "source": [
    "input = torch.randn(3, 2, requires_grad=True)\n",
    "target = torch.empty(3, dtype=torch.long).random_(2)\n",
    "output = loss(input, target)"
   ]
  },
  {
   "cell_type": "code",
   "execution_count": 4,
   "id": "7b4210c72fcec9e9",
   "metadata": {
    "ExecuteTime": {
     "end_time": "2023-12-12T12:59:36.285933571Z",
     "start_time": "2023-12-12T12:59:36.120562100Z"
    },
    "collapsed": false
   },
   "outputs": [],
   "source": [
    "loss = nn.BCEWithLogitsLoss()\n",
    "input = torch.randn(3, requires_grad=True)\n",
    "target = torch.empty(3).random_(2)\n",
    "output = loss(input, target)"
   ]
  },
  {
   "cell_type": "code",
   "execution_count": null,
   "id": "68b963f4a97cb171",
   "metadata": {
    "collapsed": false
   },
   "outputs": [],
   "source": []
  }
 ],
 "metadata": {
  "kernelspec": {
   "display_name": "Python 3",
   "language": "python",
   "name": "python3"
  },
  "language_info": {
   "codemirror_mode": {
    "name": "ipython",
    "version": 3
   },
   "file_extension": ".py",
   "mimetype": "text/x-python",
   "name": "python",
   "nbconvert_exporter": "python",
   "pygments_lexer": "ipython3",
   "version": "3.8.0"
  }
 },
 "nbformat": 4,
 "nbformat_minor": 5
}
