{
 "cells": [
  {
   "cell_type": "code",
   "execution_count": 3,
   "id": "initial_id",
   "metadata": {
    "collapsed": true,
    "ExecuteTime": {
     "end_time": "2023-12-19T14:58:28.301316298Z",
     "start_time": "2023-12-19T14:58:27.535444915Z"
    }
   },
   "outputs": [
    {
     "ename": "NameError",
     "evalue": "name 'Node' is not defined",
     "output_type": "error",
     "traceback": [
      "\u001B[0;31m---------------------------------------------------------------------------\u001B[0m",
      "\u001B[0;31mNameError\u001B[0m                                 Traceback (most recent call last)",
      "Cell \u001B[0;32mIn[3], line 2\u001B[0m\n\u001B[1;32m      1\u001B[0m \u001B[38;5;28;01mfrom\u001B[39;00m \u001B[38;5;21;01mslither\u001B[39;00m\u001B[38;5;21;01m.\u001B[39;00m\u001B[38;5;21;01mslither\u001B[39;00m \u001B[38;5;28;01mimport\u001B[39;00m Slither\n\u001B[0;32m----> 2\u001B[0m \u001B[43mNode\u001B[49m\n\u001B[1;32m      3\u001B[0m \u001B[38;5;28;01mfrom\u001B[39;00m \u001B[38;5;21;01mslither\u001B[39;00m\u001B[38;5;21;01m.\u001B[39;00m\u001B[38;5;21;01manalyses\u001B[39;00m\u001B[38;5;21;01m.\u001B[39;00m\u001B[38;5;21;01mdata_dependency\u001B[39;00m\u001B[38;5;21;01m.\u001B[39;00m\u001B[38;5;21;01mdata_dependency\u001B[39;00m \u001B[38;5;28;01mimport\u001B[39;00m is_dependent\n\u001B[1;32m      4\u001B[0m \u001B[38;5;28;01mimport\u001B[39;00m \u001B[38;5;21;01mos\u001B[39;00m\u001B[38;5;241m,\u001B[39m \u001B[38;5;21;01msys\u001B[39;00m\n",
      "\u001B[0;31mNameError\u001B[0m: name 'Node' is not defined"
     ]
    }
   ],
   "source": [
    "from slither.core.cfg.node import Node\n",
    "from slither.slither import Slither\n",
    "Node\n",
    "from slither.analyses.data_dependency.data_dependency import is_dependent\n",
    "import os, sys\n",
    "sys.path.append('/home/jrj/postgraduate/vpg')"
   ]
  },
  {
   "cell_type": "code",
   "execution_count": null,
   "outputs": [],
   "source": [],
   "metadata": {
    "collapsed": false
   },
   "id": "dd18a977972177d1"
  },
  {
   "cell_type": "code",
   "execution_count": 2,
   "id": "20eb7f255d40c21d",
   "metadata": {
    "collapsed": false,
    "ExecuteTime": {
     "end_time": "2023-12-19T14:53:36.166785756Z",
     "start_time": "2023-12-19T14:53:34.429581541Z"
    }
   },
   "outputs": [],
   "source": [
    "from utils.sol_utils import get_solc_version, is_mapping_type, all_path, is_number_type, is_address_type\n",
    "from prepare.graph import SolidityInfo\n",
    "sol_path = \"/home/jrj/postgraduate/vpg/files/StarlinkINU.sol\"\n",
    "solc_version = get_solc_version(sol_path)\n",
    "solc_path = f\"/home/jrj/.solc-select/artifacts/solc-{solc_version}/solc-{solc_version}\"\n",
    "sol = Slither(sol_path, solc=solc_path)"
   ]
  },
  {
   "cell_type": "code",
   "execution_count": 2,
   "id": "e164fad0a6ef1fd9",
   "metadata": {
    "collapsed": false,
    "ExecuteTime": {
     "end_time": "2023-12-19T13:55:25.720289028Z",
     "start_time": "2023-12-19T13:55:25.689323578Z"
    }
   },
   "outputs": [
    {
     "ename": "NameError",
     "evalue": "name 'sol' is not defined",
     "output_type": "error",
     "traceback": [
      "\u001B[0;31m---------------------------------------------------------------------------\u001B[0m",
      "\u001B[0;31mNameError\u001B[0m                                 Traceback (most recent call last)",
      "Cell \u001B[0;32mIn[2], line 1\u001B[0m\n\u001B[0;32m----> 1\u001B[0m contract \u001B[38;5;241m=\u001B[39m \u001B[43msol\u001B[49m\u001B[38;5;241m.\u001B[39mcontracts_derived[\u001B[38;5;241m-\u001B[39m\u001B[38;5;241m1\u001B[39m]\n\u001B[1;32m      2\u001B[0m func \u001B[38;5;241m=\u001B[39m contract\u001B[38;5;241m.\u001B[39mall_functions_called[\u001B[38;5;241m29\u001B[39m]\n\u001B[1;32m      3\u001B[0m var_tamount \u001B[38;5;241m=\u001B[39m func\u001B[38;5;241m.\u001B[39mvariables[\u001B[38;5;241m0\u001B[39m]\n",
      "\u001B[0;31mNameError\u001B[0m: name 'sol' is not defined"
     ]
    }
   ],
   "source": [
    "contract = sol.contracts_derived[-1]\n",
    "func = contract.all_functions_called[29]\n",
    "var_tamount = func.variables[0]\n",
    "var_rtotal = func.state_variables_read[2]\n",
    "var_ramount = func.variables[2]\n",
    "\n"
   ]
  },
  {
   "cell_type": "code",
   "execution_count": 8,
   "id": "eccf0022aaa84f40",
   "metadata": {
    "ExecuteTime": {
     "end_time": "2023-11-27T03:44:14.529656705Z",
     "start_time": "2023-11-27T03:44:14.511800086Z"
    },
    "collapsed": false
   },
   "outputs": [],
   "source": [
    "a = is_dependent(var_rtotal, var_rtotal, func)\n",
    "b = is_dependent(var_ramount, var_rtotal, func)"
   ]
  },
  {
   "cell_type": "code",
   "execution_count": null,
   "id": "1ef968e11a3d9c1a",
   "metadata": {
    "ExecuteTime": {
     "end_time": "2023-11-27T03:43:30.133366135Z",
     "start_time": "2023-11-27T03:43:30.131920184Z"
    },
    "collapsed": false
   },
   "outputs": [],
   "source": [
    "d =dict()\n",
    "d[contract] = 1\n",
    "d[func] = 2\n",
    "d[var_tamount] = 3"
   ]
  },
  {
   "cell_type": "code",
   "execution_count": null,
   "id": "ef7ae4a7bb72184c",
   "metadata": {
    "ExecuteTime": {
     "start_time": "2023-11-27T03:43:30.132341575Z"
    },
    "collapsed": false
   },
   "outputs": [],
   "source": [
    "l = list(d.keys())"
   ]
  },
  {
   "cell_type": "code",
   "execution_count": 16,
   "id": "f4299e297817be8e",
   "metadata": {
    "ExecuteTime": {
     "start_time": "2023-11-27T03:43:30.132638076Z"
    },
    "collapsed": false
   },
   "outputs": [],
   "source": [
    "from thefuzz import fuzz\n",
    "file = \"/home/jrj/postgraduate/Ethereum_smart_contract_datast/Ethereum_smart_contract_datast/contract_dataset_ethereum/contract19/18866.sol\"\n",
    "tmp_mapping_vars_dict = {}\n",
    "tmp_success_files = []\n",
    "tmp_error_files = []\n",
    "try:\n",
    "    solc_version = get_solc_version(file)\n",
    "    solc_version = f'/home/jrj/.solc-select/artifacts/solc-{solc_version}/solc-{solc_version}'\n",
    "    sol = SolidityInfo(file, solc=solc_version)\n",
    "    tmp_mapping_vars_dict[file] = []\n",
    "    top_contracts = sol.top_contracts\n",
    "    for tc in top_contracts:\n",
    "        if not tc.is_possible_token: continue\n",
    "        state_vars = tc.state_variables\n",
    "        balance_func_sv = set()\n",
    "        for func in tc.all_functions_called:\n",
    "            if fuzz.partial_ratio(func.name.lower(), \"balanceof\") >= 85:\n",
    "                balance_func_sv = balance_func_sv.union(set(func.state_variables_read))\n",
    "        for sv in state_vars:\n",
    "            if not (is_mapping_type(sv.type) and is_address_type(sv.type.type_from)): continue\n",
    "            if is_number_type(sv.type.type_to):\n",
    "                if len(balance_func_sv) != 0 and sv in balance_func_sv:\n",
    "                    tmp_mapping_vars_dict[file].append([sv.canonical_name, 1])\n",
    "                else:\n",
    "                    if fuzz.partial_ratio(sv.name.lower(), \"balance\") >= 85:\n",
    "                        tmp_mapping_vars_dict[file].append([sv.canonical_name, 1])\n",
    "                    else:\n",
    "                        tmp_mapping_vars_dict[file].append([sv.canonical_name, 0])\n",
    "            else:\n",
    "                tmp_mapping_vars_dict[file].append([sv.canonical_name, 0])\n",
    "    tmp_success_files.append(file)\n",
    "except Exception as e:\n",
    "    print(e)\n",
    "    tmp_error_files.append(file)"
   ]
  },
  {
   "cell_type": "code",
   "execution_count": 17,
   "id": "eeae3005",
   "metadata": {},
   "outputs": [
    {
     "data": {
      "text/plain": [
       "[['CryptoCollectorContract.ownershipTokenCount', 1],\n",
       " ['CryptoCollectorContract.userArreyPosition', 0]]"
      ]
     },
     "execution_count": 17,
     "metadata": {},
     "output_type": "execute_result"
    }
   ],
   "source": [
    "tmp_mapping_vars_dict[file]"
   ]
  }
 ],
 "metadata": {
  "kernelspec": {
   "display_name": "Python 3",
   "language": "python",
   "name": "python3"
  },
  "language_info": {
   "codemirror_mode": {
    "name": "ipython",
    "version": 3
   },
   "file_extension": ".py",
   "mimetype": "text/x-python",
   "name": "python",
   "nbconvert_exporter": "python",
   "pygments_lexer": "ipython3",
   "version": "3.8.0"
  }
 },
 "nbformat": 4,
 "nbformat_minor": 5
}
