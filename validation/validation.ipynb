{
 "cells": [
  {
   "cell_type": "code",
   "execution_count": 1,
   "metadata": {
    "collapsed": false,
    "pycharm": {
     "is_executing": true
    },
    "ExecuteTime": {
     "end_time": "2024-02-22T12:37:19.063501870Z",
     "start_time": "2024-02-22T12:37:19.055529617Z"
    }
   },
   "source": [
    "import gc\n",
    "import re\n",
    "import traceback\n",
    "import os\n",
    "import sys\n",
    "from tqdm import tqdm"
   ],
   "outputs": []
  },
  {
   "cell_type": "code",
   "execution_count": 2,
   "metadata": {
    "collapsed": false,
    "ExecuteTime": {
     "end_time": "2024-02-22T12:37:19.133302527Z",
     "start_time": "2024-02-22T12:37:19.058620383Z"
    }
   },
   "source": [
    "import pickle"
   ],
   "outputs": []
  },
  {
   "cell_type": "code",
   "execution_count": 3,
   "metadata": {
    "collapsed": false
   },
   "source": [
    "with open(\"/home/jrj/postgraduate/Symbolic/Backdoor/result/verified/vul_result.pkl\", \"rb\") as fr:\n",
    "    res = pickle.load(fr)\n",
    "for d in res:\n",
    "    res[d] = dict(sorted(res[d].items(), key=lambda x:x[1], reverse=True))"
   ],
   "outputs": []
  },
  {
   "cell_type": "code",
   "execution_count": 8,
   "metadata": {},
   "source": [
    "s_res = \"\"\n",
    "for d in res:\n",
    "    content = f\"{str(d)}:\"\n",
    "    for t in res[d]:\n",
    "        content += f\"{str(t)}({str(res[d][t])}),\\\\ \"\n",
    "    s_res += f\"{content}\\n\"\n",
    "print(s_res)"
   ],
   "outputs": []
  },
  {
   "cell_type": "code",
   "execution_count": 3,
   "metadata": {
    "collapsed": false,
    "ExecuteTime": {
     "end_time": "2024-02-22T12:37:23.123775816Z",
     "start_time": "2024-02-22T12:37:23.096812686Z"
    }
   },
   "source": [
    "def all_path(dirname, filter_list):\n",
    "    result = []  # 所有的文件\n",
    "    # filter = [\".wav\"]\n",
    "    for maindir, subdir, file_name_list in os.walk(dirname):\n",
    "        for filename in file_name_list:\n",
    "            apath = os.path.join(maindir, filename)  # 合并成一个完整路径\n",
    "            ext = os.path.splitext(apath)[1]\n",
    "            if ext in filter_list:\n",
    "                result.append(apath)\n",
    "    return result"
   ],
   "outputs": []
  },
  {
   "cell_type": "code",
   "execution_count": null,
   "metadata": {
    "collapsed": false
   },
   "source": [
    "src_root_path = \"/home/jrj/postgraduate/backdoor_data/dataset/verified/modified\"\n",
    "folders = os.listdir(src_root_path)\n",
    "tmp_result = {}\n",
    "for folder in folders:\n",
    "    src_folder_path = os.path.join(src_root_path, folder)\n",
    "    sols = all_path(src_folder_path, [\".sol\"])\n",
    "    tmp_result[folder] = len(sols)\n",
    " "
   ],
   "outputs": []
  },
  {
   "cell_type": "code",
   "execution_count": 13,
   "metadata": {
    "ExecuteTime": {
     "end_time": "2024-02-06T09:08:13.124808278Z",
     "start_time": "2024-02-06T09:08:13.025198230Z"
    },
    "collapsed": false
   },
   "source": [
    "outs = all_path(\"/home/jrj/postgraduate/PiedPiperBackdoor/tools/analyser\",[\".out\"])\n",
    "result = {}\n",
    "for file in outs:\n",
    "    filename = os.path.basename(file).split(\"_\")\n",
    "    b_type = filename[2]\n",
    "    batched = filename[1]\n",
    "    total = 0.0\n",
    "    with open(file, \"r\") as fr:\n",
    "        content = fr.readlines()\n",
    "    for line in content:\n",
    "        l = line.split(\",\")\n",
    "        if len(l) < 3: continue\n",
    "        time_1, time_2 = float(l[1]), float(l[2])\n",
    "        total += time_1+time_2\n",
    "    result[b_type] = result.get(b_type, 0) + (total/len(content))      "
   ],
   "outputs": []
  },
  {
   "cell_type": "code",
   "execution_count": 3,
   "metadata": {
    "ExecuteTime": {
     "end_time": "2024-02-12T09:47:06.715525584Z",
     "start_time": "2024-02-12T09:47:06.348992264Z"
    },
    "collapsed": false
   },
   "source": [
    "import glob\n",
    "file_pattern = \"*.sol\""
   ],
   "outputs": []
  },
  {
   "cell_type": "code",
   "execution_count": 10,
   "metadata": {
    "collapsed": false,
    "ExecuteTime": {
     "end_time": "2024-02-12T11:30:10.959835045Z",
     "start_time": "2024-02-12T11:30:10.821009575Z"
    }
   },
   "source": [
    "path = \"/home/jrj/postgraduate/backdoor_data/bsc_contracts\"\n",
    "folders = os.listdir(path)\n",
    "# files = all_path(path, ['.sol'])"
   ],
   "outputs": []
  },
  {
   "cell_type": "code",
   "execution_count": 12,
   "metadata": {
    "collapsed": false,
    "ExecuteTime": {
     "end_time": "2024-02-12T11:50:14.470727396Z",
     "start_time": "2024-02-12T11:49:20.525002373Z"
    }
   },
   "source": [
    "from fuzzywuzzy import fuzz\n",
    "from backdoor.utils.node_utils import is_mapping_type, is_number_type\n",
    "from backdoor.state.solidity_info import SolidityInfo\n",
    "from backdoor.utils.preprocess import SolFile\n",
    "from slither import Slither\n",
    "from scripts.process_dataset import get_solc_version\n",
    "\n",
    "candidates = []\n",
    "for folder in tqdm(folders):\n",
    "    sols = all_path(os.path.join(path, folder), [\".sol\"])\n",
    "    if len(sols) != 1: continue\n",
    "    file = sols[0]\n",
    "    try:\n",
    "        solc_version = get_solc_version(file)\n",
    "        solc_path = f\"/home/jrj/.solc-select/artifacts/solc-{solc_version}\"\n",
    "        sol_file = SolidityInfo(path, solc_path)\n",
    "        file_flag = False\n",
    "        for c in sol_file.get_contracts_derived():\n",
    "            if file_flag: break\n",
    "            has_balances = False\n",
    "            for state_var in c.state_variables:\n",
    "                if is_mapping_type(state_var.type):\n",
    "                    if is_number_type(state_var.type.type_to):\n",
    "                        if fuzz.partial_ratio(state_var.name, \"balances\") >= 85:\n",
    "                            has_balances = True\n",
    "                            break\n",
    "            if not has_balances:\n",
    "                file_flag = True\n",
    "                candidates.append(file)\n",
    "    except:\n",
    "        continue\n",
    "        "
   ],
   "outputs": []
  },
  {
   "cell_type": "code",
   "execution_count": 11,
   "metadata": {
    "collapsed": false,
    "ExecuteTime": {
     "end_time": "2024-02-22T12:58:58.195712621Z",
     "start_time": "2024-02-22T12:58:58.139142058Z"
    }
   },
   "source": [
    "eth = all_path(\"/home/jrj/postgraduate/Symbolic/Backdoor/dataset/eth\", [\".sol\"])\n",
    "bsc = all_path(\"/home/jrj/postgraduate/Symbolic/Backdoor/dataset/bsc\", [\".sol\"])\n",
    "total = eth + bsc\n",
    "total = [os.path.basename(t) for t in total]"
   ],
   "outputs": []
  },
  {
   "cell_type": "code",
   "source": [
    "r_v2 = all_path(\"/home/jrj/postgraduate/Symbolic/Backdoor/dataset/real_world_v2\", [\".sol\"])\n",
    "r_selectedv2 = all_path(\"/home/jrj/postgraduate/Symbolic/Backdoor/dataset/real_world_selected_v2\", [\".sol\"])\n",
    "r_v2 = set([os.path.basename(r) for r in r_v2])\n",
    "r_selectedv2 = set([os.path.basename(rs) for rs in r_selectedv2])\n",
    "total = set(total)"
   ],
   "metadata": {
    "collapsed": false,
    "ExecuteTime": {
     "end_time": "2024-02-22T13:00:19.795595469Z",
     "start_time": "2024-02-22T13:00:19.737769116Z"
    }
   },
   "execution_count": 12,
   "outputs": []
  },
  {
   "cell_type": "code",
   "source": [
    "len(r_v2.difference(total))"
   ],
   "metadata": {
    "collapsed": false,
    "ExecuteTime": {
     "end_time": "2024-02-22T13:00:23.310232581Z",
     "start_time": "2024-02-22T13:00:23.288725910Z"
    }
   },
   "execution_count": 13,
   "outputs": []
  },
  {
   "cell_type": "code",
   "source": [
    "print(\"123\")"
   ],
   "metadata": {
    "collapsed": false,
    "ExecuteTime": {
     "end_time": "2024-02-26T01:49:46.640015Z",
     "start_time": "2024-02-26T01:49:46.634195Z"
    }
   },
   "execution_count": 2,
   "outputs": []
  },
  {
   "metadata": {},
   "cell_type": "code",
   "execution_count": null,
   "source": [],
   "outputs": []
  }
 ],
 "metadata": {
  "kernelspec": {
   "display_name": "slither",
   "language": "python",
   "name": "python3"
  },
  "language_info": {
   "codemirror_mode": {
    "name": "ipython",
    "version": 3
   },
   "file_extension": ".py",
   "mimetype": "text/x-python",
   "name": "python",
   "nbconvert_exporter": "python",
   "pygments_lexer": "ipython3",
   "version": "3.8.16"
  },
  "orig_nbformat": 4,
  "vscode": {
   "interpreter": {
    "hash": "83e1b5d48022083c56af3e0833c39c3959d273f3d3197eed6688b017739233ff"
   }
  }
 },
 "nbformat": 4,
 "nbformat_minor": 2
}
