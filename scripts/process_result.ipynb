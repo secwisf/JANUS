{
 "cells": [
  {
   "cell_type": "code",
   "execution_count": null,
   "metadata": {},
   "outputs": [],
   "source": [
    "import os,sys\n",
    "import shutil\n",
    "import json"
   ]
  },
  {
   "cell_type": "code",
   "execution_count": 4,
   "metadata": {},
   "outputs": [],
   "source": [
    "with open(\"/home/jrj/postgraduate/Symbolic/Backdoor/result/real_world/0.6.x/0x0a00ff0a5ac8c9935a14c0e24abe8d306bf7363e_GCExchangeStaking/GCExchangeStaking_inline.json\", 'r') as fr:\n",
    "    result_example = json.load(fr)"
   ]
  },
  {
   "cell_type": "code",
   "execution_count": 1,
   "metadata": {
    "ExecuteTime": {
     "end_time": "2024-02-27T08:18:39.527519330Z",
     "start_time": "2024-02-27T08:18:39.463697148Z"
    },
    "collapsed": false
   },
   "outputs": [],
   "source": [
    "import pickle"
   ]
  },
  {
   "cell_type": "code",
   "execution_count": 2,
   "metadata": {
    "ExecuteTime": {
     "end_time": "2024-02-27T08:19:40.374125849Z",
     "start_time": "2024-02-27T08:19:40.293962466Z"
    },
    "collapsed": false
   },
   "outputs": [],
   "source": [
    "with open(\"/home/jrj/postgraduate/Symbolic/Backdoor/scripts/filter_identify_result.pkl\", \"rb\") as fr:\n",
    "    f_d = pickle.load(fr)"
   ]
  },
  {
   "cell_type": "code",
   "execution_count": 6,
   "metadata": {
    "ExecuteTime": {
     "end_time": "2024-02-27T09:02:32.685295571Z",
     "start_time": "2024-02-27T09:02:32.618659905Z"
    },
    "collapsed": false
   },
   "outputs": [
    {
     "data": {
      "text/plain": [
       "{'AnyCallProxy.executionBudget': 1,\n",
       " 'AnyCallProxy.whitelist': 0,\n",
       " 'AnyCallProxy.blacklist': 0}"
      ]
     },
     "execution_count": 6,
     "metadata": {},
     "output_type": "execute_result"
    }
   ],
   "source": [
    "f_d[\"/home/jrj/postgraduate/Symbolic/Backdoor/dataset/eth/AnyCallProxy.sol\"]"
   ]
  },
  {
   "cell_type": "code",
   "execution_count": 5,
   "metadata": {
    "ExecuteTime": {
     "end_time": "2024-02-27T09:00:52.080662549Z",
     "start_time": "2024-02-27T09:00:52.015705034Z"
    },
    "collapsed": false
   },
   "outputs": [
    {
     "data": {
      "text/plain": [
       "{'TDOGE.TVlhxYA': 0, 'TDOGE.ZPUYnGtui': 1}"
      ]
     },
     "execution_count": 5,
     "metadata": {},
     "output_type": "execute_result"
    }
   ],
   "source": [
    "f_d[\"/home/jrj/postgraduate/Symbolic/Backdoor/dataset/bsc/01_01_TDOGE.sol\"]"
   ]
  },
  {
   "cell_type": "code",
   "execution_count": 1,
   "metadata": {
    "collapsed": false
   },
   "outputs": [],
   "source": [
    "from rapidfuzz import fuzz"
   ]
  },
  {
   "cell_type": "code",
   "execution_count": 2,
   "metadata": {},
   "outputs": [
    {
     "data": {
      "text/plain": [
       "36.36363636363637"
      ]
     },
     "execution_count": 2,
     "metadata": {},
     "output_type": "execute_result"
    }
   ],
   "source": [
    "fuzz.partial_ratio(\"totalWithdraws\".lower(), \"balances\")"
   ]
  }
 ],
 "metadata": {
  "kernelspec": {
   "display_name": "slither",
   "language": "python",
   "name": "python3"
  },
  "language_info": {
   "codemirror_mode": {
    "name": "ipython",
    "version": 3
   },
   "file_extension": ".py",
   "mimetype": "text/x-python",
   "name": "python",
   "nbconvert_exporter": "python",
   "pygments_lexer": "ipython3",
   "version": "3.8.16"
  },
  "orig_nbformat": 4,
  "vscode": {
   "interpreter": {
    "hash": "83e1b5d48022083c56af3e0833c39c3959d273f3d3197eed6688b017739233ff"
   }
  }
 },
 "nbformat": 4,
 "nbformat_minor": 2
}
