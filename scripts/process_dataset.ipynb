{
 "cells": [
  {
   "cell_type": "code",
   "execution_count": 1,
   "metadata": {
    "ExecuteTime": {
     "end_time": "2024-04-21T02:30:40.874717Z",
     "start_time": "2024-04-21T02:30:40.861808Z"
    },
    "collapsed": true
   },
   "source": [
    "import os\n",
    "import pickle\n"
   ],
   "outputs": []
  },
  {
   "cell_type": "code",
   "execution_count": 2,
   "metadata": {
    "ExecuteTime": {
     "end_time": "2024-04-21T02:30:44.188277Z",
     "start_time": "2024-04-21T02:30:44.181188Z"
    },
    "collapsed": false
   },
   "source": [
    "def all_path(dirname, filter_list):\n",
    "    result = []  # 所有的文件\n",
    "    # filter = [\".wav\"]\n",
    "    for maindir, subdir, file_name_list in os.walk(dirname):\n",
    "        for filename in file_name_list:\n",
    "            apath = os.path.join(maindir, filename)  # 合并成一个完整路径\n",
    "            ext = os.path.splitext(apath)[1]\n",
    "            if ext in filter_list:\n",
    "                result.append(apath)\n",
    "    return result"
   ],
   "outputs": []
  },
  {
   "cell_type": "code",
   "execution_count": 3,
   "metadata": {
    "ExecuteTime": {
     "end_time": "2024-04-21T02:30:52.489422Z",
     "start_time": "2024-04-21T02:30:51.501961Z"
    }
   },
   "source": [
    "sols = all_path(\"/home/jrj/postgraduate/backdoor_data/dataset/real_world_v2\", [\".sol\"])\n",
    "print(len(sols))"
   ],
   "outputs": []
  },
  {
   "cell_type": "code",
   "execution_count": null,
   "metadata": {
    "ExecuteTime": {
     "end_time": "2024-04-21T02:31:02.450843Z",
     "start_time": "2024-04-21T02:31:01.814432Z"
    },
    "collapsed": false
   },
   "source": [],
   "outputs": []
  },
  {
   "cell_type": "code",
   "execution_count": 6,
   "metadata": {},
   "source": [
    "jsons = all_path(\"/home/jrj/postgraduate/backdoor_data/result/new_real_world_v2\", [\".json\"])\n",
    "print(len(jsons))"
   ],
   "outputs": []
  },
  {
   "cell_type": "code",
   "execution_count": null,
   "metadata": {
    "ExecuteTime": {
     "end_time": "2024-01-08T07:35:28.470491002Z",
     "start_time": "2024-01-08T07:35:28.343437333Z"
    },
    "collapsed": false
   },
   "source": [
    "v1_folders = os.listdir(\"/home/jrj/postgraduate/Symbolic/Backdoor/result/real_world/0.4.x-0.5.x\")+os.listdir(\"/home/jrj/postgraduate/Symbolic/Backdoor/result/real_world/0.6.x\")\n",
    "v2_folders = os.listdir(\"/home/jrj/postgraduate/backdoor_data/dataset/real_world_selected_v2\")\n",
    "r = v1_folders in v2_folders"
   ],
   "outputs": []
  },
  {
   "cell_type": "code",
   "execution_count": null,
   "metadata": {
    "ExecuteTime": {
     "end_time": "2024-01-08T07:35:59.780767406Z",
     "start_time": "2024-01-08T07:35:59.691293985Z"
    },
    "collapsed": false
   },
   "source": [
    "r = set(v1_folders).difference(v2_folders)"
   ],
   "outputs": []
  },
  {
   "cell_type": "code",
   "execution_count": null,
   "metadata": {
    "collapsed": false
   },
   "source": [
    "with open('/home/jrj/postgraduate/Symbolic/Backdoor/scripts/error_list.pkl', 'rb') as fr:\n",
    "    a = pickle.load(fr)"
   ],
   "outputs": []
  },
  {
   "cell_type": "code",
   "execution_count": null,
   "metadata": {
    "collapsed": false
   },
   "source": [
    "from solidity_parser import parse_file"
   ],
   "outputs": []
  },
  {
   "cell_type": "code",
   "execution_count": null,
   "metadata": {
    "collapsed": false
   },
   "source": [
    "soure_unit = parse_file('/home/jrj/postgraduate/Symbolic/Backdoor/dataset/verified/GenerateToken/0xa8ba86e4a8dd2afecd6ee4e6b56d6fc8c8864f09.sol', loc=True)['children']"
   ],
   "outputs": []
  },
  {
   "cell_type": "code",
   "execution_count": null,
   "metadata": {
    "collapsed": false
   },
   "source": [],
   "outputs": []
  },
  {
   "cell_type": "code",
   "execution_count": null,
   "metadata": {
    "collapsed": false
   },
   "source": [
    "import requests\n",
    "import eventlet\n",
    "import time\n",
    "\n",
    "eventlet.monkey_patch()\n",
    "\n",
    "time_limit = 3  #set timeout time 3s\n",
    "\n",
    "with eventlet.Timeout(time_limit,False):\n",
    "    time.sleep(5)\n",
    "    print('error')\n",
    "print(\"over\")"
   ],
   "outputs": []
  },
  {
   "cell_type": "code",
   "execution_count": null,
   "metadata": {
    "collapsed": false
   },
   "source": [
    "import json\n",
    "import pickle\n",
    "import os\n",
    "from tqdm import tqdm"
   ],
   "outputs": []
  },
  {
   "cell_type": "code",
   "execution_count": null,
   "metadata": {},
   "source": [
    "type_list = [\"arbitrarilyTransfer\", \"DestroyToken\", \"DisableTransfer\", \"FreezeAccount\", \"GenerateToken\"]"
   ],
   "outputs": []
  },
  {
   "cell_type": "code",
   "execution_count": null,
   "metadata": {
    "collapsed": false
   },
   "source": [
    "\n",
    "for backdoor_type in type_list:\n",
    "    files = all_path(f'/home/jrj/postgraduate/Symbolic/Backdoor/dataset/verified/modified/{backdoor_type}', [\".sol\"])\n",
    "    error_list = []\n",
    "    for file_path in tqdm(files):\n",
    "        old_filename = os.path.basename(file_path)[:-4]\n",
    "        new_filename = old_filename + '.json'\n",
    "        path = f\"/home/jrj/postgraduate/Symbolic/Backdoor/result/verified/{backdoor_type}\"\n",
    "        new_path = os.path.join(path, new_filename)\n",
    "        if os.path.exists(new_path):\n",
    "            if os.path.getsize(new_path) == 2:\n",
    "                error_list.append(file_path)\n",
    "        else:\n",
    "            error_list.append(file_path)\n",
    "    with open(f'error_list_{backdoor_type}.txt', 'w') as fw:\n",
    "        fw.write(\"\\n\".join(error_list))"
   ],
   "outputs": []
  },
  {
   "cell_type": "code",
   "execution_count": null,
   "metadata": {},
   "source": [
    "\n",
    "for backdoor_type in type_list:\n",
    "    sh_content = \"#！/bin/zsh\\n\"\n",
    "    files = all_path(f'/home/jrj/postgraduate/Symbolic/Backdoor/dataset/verified/modified/{backdoor_type}', [\".sol\"])\n",
    "    for file in files:\n",
    "        python_content = f'python validate_function.py \"{file}\" \"{backdoor_type}\"\\n'\n",
    "        sh_content += python_content\n",
    "    with open(f'../validation/{backdoor_type}.sh', 'w') as fw:\n",
    "        fw.write(sh_content)"
   ],
   "outputs": []
  },
  {
   "cell_type": "code",
   "execution_count": null,
   "metadata": {},
   "source": [
    "root_path = \"/home/jrj/postgraduate/Symbolic/Backdoor/dataset/real_world_selected/0.4.x-0.5.x\"\n",
    "folder_list = os.listdir(root_path)\n",
    "num = 0\n",
    "round = 0\n",
    "batch_size = 200\n",
    "while num < len(folder_list):\n",
    "    if num % batch_size == 0:\n",
    "        round = int(num / batch_size)\n",
    "        sh_content = \"#！/bin/zsh\\n\"\n",
    "    folder = folder_list[num]\n",
    "    src_path = os.path.join(root_path, folder)\n",
    "    meta_file = os.path.join(src_path, \"meta.json\")\n",
    "    with open(meta_file, 'r') as fr:\n",
    "            meta_dict = json.load(fr)\n",
    "    sol_path = os.path.join(src_path, f\"{meta_dict['Contract Name']}_inline.sol\")\n",
    "    solc_path = f\"/home/jrj/.solc-select/artifacts/solc-{meta_dict['Version']}/solc-{meta_dict['Version']}\"\n",
    "    python_content = f'/home/jrj/.conda/envs/slither/bin/python ../validate_function.py \"{sol_path}\" \"{solc_path}\"\\n'\n",
    "    sh_content += python_content\n",
    "    if (num + 1) % batch_size == 0 or (num+1)>=len(folder_list):\n",
    "        with open(f'../validation/0.4.x-0.5.x/real_world_{str(round)}.sh', 'w') as fw:\n",
    "            fw.write(sh_content)\n",
    "    num += 1"
   ],
   "outputs": []
  },
  {
   "cell_type": "code",
   "execution_count": null,
   "metadata": {},
   "source": [
    "for i in range(15):\n",
    "    content = f\"nohup time ./real_world_{str(i)}.sh >real_world_{str(i)}.log 2>&1 &\"\n",
    "    print(content)"
   ],
   "outputs": []
  },
  {
   "cell_type": "code",
   "execution_count": null,
   "metadata": {
    "collapsed": false
   },
   "source": [
    "root_path = \"/home/jrj/postgraduate/Symbolic/Backdoor/dataset/real_world_selected/0.6.x\"\n",
    "folder_list = os.listdir(root_path)\n",
    "num = 0\n",
    "round = 0\n",
    "batch_size = 200\n",
    "while num < len(folder_list):\n",
    "    if num % batch_size == 0:\n",
    "        round = int(num / batch_size)\n",
    "        sh_content = \"#！/bin/zsh\\n\"\n",
    "    folder = folder_list[num]\n",
    "    src_path = os.path.join(root_path, folder)\n",
    "    meta_file = os.path.join(src_path, \"meta.json\")\n",
    "    with open(meta_file, 'r') as fr:\n",
    "            meta_dict = json.load(fr)\n",
    "    sol_path = os.path.join(src_path, f\"{meta_dict['Contract Name']}_inline.sol\")\n",
    "    solc_path = f\"/home/jrj/.solc-select/artifacts/solc-{meta_dict['Version']}/solc-{meta_dict['Version']}\"\n",
    "    python_content = f'/home/jrj/.conda/envs/slither/bin/python ../validate_function.py \"{sol_path}\" \"{solc_path}\"\\n'\n",
    "    sh_content += python_content\n",
    "    if (num + 1) % batch_size == 0 or (num+1)>=len(folder_list):\n",
    "        with open(f'../validation/0.6.x/real_world_0.6_{str(round)}.sh', 'w') as fw:\n",
    "            fw.write(sh_content)\n",
    "    num += 1"
   ],
   "outputs": []
  },
  {
   "cell_type": "code",
   "execution_count": null,
   "metadata": {},
   "source": [
    "for i in range(15):\n",
    "    content = f\"nohup time ./real_world_0.6_{str(i)}.sh >real_world_0.6_{str(i)}.log 2>&1 &\"\n",
    "    print(content)"
   ],
   "outputs": []
  },
  {
   "cell_type": "code",
   "execution_count": null,
   "metadata": {},
   "source": [
    "import os\n",
    "import shutil"
   ],
   "outputs": []
  },
  {
   "cell_type": "code",
   "execution_count": null,
   "metadata": {},
   "source": [
    "folders = os.listdir(\"/home/jrj/postgraduate/Symbolic/Backdoor/dataset/real_world_selected\")\n",
    "\n",
    "for folder in folders:\n",
    "    if not folder.startswith(\"0x\"):continue\n",
    "    origin_folder_path = os.path.join(\"/home/jrj/postgraduate/Symbolic/Backdoor/dataset/real_world_selected\", folder)\n",
    "    new_folder_path = os.path.join(\"/home/jrj/postgraduate/Symbolic/Backdoor/dataset/real_world_selected/0.4.x-0.5.x\", folder)\n",
    "    shutil.move(origin_folder_path, new_folder_path)"
   ],
   "outputs": []
  },
  {
   "cell_type": "code",
   "execution_count": null,
   "metadata": {},
   "source": [
    "path = '/home/jrj/postgraduate/Symbolic/etherscan-contract-crawler/contracts/contracts_20220808_130510.json'\n",
    "with open(path, 'r') as fr:\n",
    "    json_dict = json.load(fr)"
   ],
   "outputs": []
  },
  {
   "cell_type": "code",
   "execution_count": null,
   "metadata": {},
   "source": [
    "json_dict"
   ],
   "outputs": []
  }
 ],
 "metadata": {
  "kernelspec": {
   "display_name": "slither",
   "language": "python",
   "name": "python3"
  },
  "language_info": {
   "codemirror_mode": {
    "name": "ipython",
    "version": 3
   },
   "file_extension": ".py",
   "mimetype": "text/x-python",
   "name": "python",
   "nbconvert_exporter": "python",
   "pygments_lexer": "ipython3",
   "version": "3.8.16"
  },
  "vscode": {
   "interpreter": {
    "hash": "83e1b5d48022083c56af3e0833c39c3959d273f3d3197eed6688b017739233ff"
   }
  }
 },
 "nbformat": 4,
 "nbformat_minor": 0
}
