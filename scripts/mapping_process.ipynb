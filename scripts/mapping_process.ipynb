{
 "cells": [
  {
   "cell_type": "code",
   "execution_count": 1,
   "metadata": {},
   "source": [
    "import os, sys\n",
    "# sys.path.append('/home/jrj/postgraduate/Symbolic/Backdoor/scripts')\n",
    "from slither.slither import Slither\n",
    "from process_dataset import all_path, get_solc_version"
   ],
   "outputs": []
  },
  {
   "cell_type": "code",
   "execution_count": 2,
   "metadata": {},
   "source": [
    "all_sols = all_path(\"/home/jrj/postgraduate/Symbolic/Backdoor/dataset/real_world\", [\".sol\"])"
   ],
   "outputs": []
  },
  {
   "cell_type": "code",
   "execution_count": 3,
   "metadata": {},
   "source": [
    "from slither.core.solidity_types import MappingType\n",
    "from tqdm import tqdm\n",
    "sys.path.append('/home/jrj/postgraduate/Symbolic/Backdoor')\n",
    "from backdoor.utils.node_utils import is_number_type\n",
    "\n",
    "err_num = 0\n",
    "sol_list = []\n",
    "for sol in tqdm(all_sols):\n",
    "    try:\n",
    "        solc_version = get_solc_version(sol)\n",
    "        solc_path = f\"/home/jrj/.solc-select/artifacts/solc-{solc_version}/solc-{solc_version}\"\n",
    "        slither_sol = Slither(sol, solc=solc_path)\n",
    "        for contract in slither_sol.contracts_derived:\n",
    "            count = 0\n",
    "            if contract.is_possible_token:\n",
    "                for state_var in contract.state_variables:\n",
    "                    if isinstance(state_var.type, MappingType) and is_number_type(state_var.type.type_to):\n",
    "                        count += 1\n",
    "            if count > 1:\n",
    "                sol_list.append(sol)\n",
    "                break\n",
    "    except:\n",
    "        err_num += 1\n",
    "        pass\n"
   ],
   "outputs": []
  }
 ],
 "metadata": {
  "kernelspec": {
   "display_name": "slither",
   "language": "python",
   "name": "python3"
  },
  "language_info": {
   "codemirror_mode": {
    "name": "ipython",
    "version": 3
   },
   "file_extension": ".py",
   "mimetype": "text/x-python",
   "name": "python",
   "nbconvert_exporter": "python",
   "pygments_lexer": "ipython3",
   "version": "3.8.16"
  },
  "orig_nbformat": 4
 },
 "nbformat": 4,
 "nbformat_minor": 2
}
