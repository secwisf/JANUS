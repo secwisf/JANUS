{
 "cells": [
  {
   "cell_type": "code",
   "execution_count": 1,
   "metadata": {
    "collapsed": true,
    "ExecuteTime": {
     "end_time": "2024-01-03T07:22:19.275114373Z",
     "start_time": "2024-01-03T07:22:18.922027219Z"
    }
   },
   "outputs": [],
   "source": [
    "import re"
   ]
  },
  {
   "cell_type": "code",
   "execution_count": 17,
   "metadata": {
    "ExecuteTime": {
     "end_time": "2024-01-03T07:31:37.740760409Z",
     "start_time": "2024-01-03T07:31:37.668303090Z"
    }
   },
   "outputs": [],
   "source": [
    "s = '_transfer(recipent, a, a)'\n",
    "escaped_key = re.escape('a')\n",
    "a = re.sub(r'(?<=[^\\.:])\\b{}(?=[^:\\w])'.format(escaped_key), 'replace_test', s)\n",
    "                "
   ]
  },
  {
   "cell_type": "code",
   "execution_count": 11,
   "metadata": {
    "collapsed": false,
    "ExecuteTime": {
     "end_time": "2024-01-03T07:22:06.656993867Z",
     "start_time": "2024-01-03T07:22:06.628081813Z"
    }
   },
   "outputs": [
    {
     "name": "stdout",
     "output_type": "stream",
     "text": [
      " acc(acc);\n"
     ]
    }
   ],
   "source": [
    "line_content = \" account(account);\"\n",
    "var_name = \"acc\"\n",
    "line_content = re.sub(r'\\baccount\\b', var_name, line_content)\n",
    "print(line_content)"
   ]
  },
  {
   "cell_type": "code",
   "execution_count": null,
   "metadata": {
    "collapsed": false
   },
   "outputs": [],
   "source": [
    "pair1 = ('a', 'b')\n",
    "pair2 = ('a', 'b')\n",
    "pair1 == pair2"
   ]
  },
  {
   "cell_type": "code",
   "execution_count": null,
   "metadata": {
    "collapsed": false
   },
   "outputs": [],
   "source": [
    "d = {'apple': 1, 'banana': 2, 'orange': 3}\n",
    "sorted_d = dict(sorted(d.items(), key=lambda x: x[0]))\n",
    "print(sorted_d)"
   ]
  },
  {
   "cell_type": "code",
   "execution_count": null,
   "metadata": {
    "collapsed": false
   },
   "outputs": [],
   "source": [
    "pair1 = set()\n",
    "pair1.add(('a','b'))\n",
    "pair1.add(('c', 'd'))\n",
    "pair2 = set()\n",
    "pair2.add(('a','b'))\n",
    "pair2.add(('c', 'd'))"
   ]
  },
  {
   "cell_type": "code",
   "execution_count": null,
   "metadata": {
    "collapsed": false
   },
   "outputs": [],
   "source": [
    "d = {('a', 'b'):{'can_be_assigned':True}, ('b', 'b'):{'can_be_assigned':True}}"
   ]
  },
  {
   "cell_type": "code",
   "execution_count": null,
   "metadata": {
    "collapsed": false
   },
   "outputs": [],
   "source": [
    "e = {('b', 'b'):{'can_be_assigned':True}, ('a', 'b'):{'can_be_assigned':True}}"
   ]
  },
  {
   "cell_type": "code",
   "execution_count": null,
   "metadata": {
    "collapsed": false
   },
   "outputs": [],
   "source": [
    "d_keys = list(d.keys())\n",
    "e_keys = list(e.keys())\n"
   ]
  },
  {
   "cell_type": "code",
   "execution_count": null,
   "metadata": {
    "collapsed": false
   },
   "outputs": [],
   "source": [
    "d_set = set(d.keys())"
   ]
  },
  {
   "cell_type": "code",
   "execution_count": null,
   "metadata": {
    "collapsed": false
   },
   "outputs": [],
   "source": [
    "d_set.add(('a', 'b'))"
   ]
  },
  {
   "cell_type": "code",
   "execution_count": null,
   "metadata": {
    "collapsed": false
   },
   "outputs": [],
   "source": [
    "sorted(pair1)"
   ]
  },
  {
   "cell_type": "code",
   "execution_count": null,
   "metadata": {
    "collapsed": false
   },
   "outputs": [],
   "source": [
    "list(pair1) == list(pair2)"
   ]
  },
  {
   "cell_type": "code",
   "execution_count": null,
   "metadata": {
    "collapsed": false
   },
   "outputs": [],
   "source": [
    "from slither.core.variables.variable import Variable"
   ]
  },
  {
   "cell_type": "code",
   "execution_count": null,
   "metadata": {
    "collapsed": false
   },
   "outputs": [],
   "source": [
    "v = Variable()\n",
    "v.name = 'owner'"
   ]
  },
  {
   "cell_type": "code",
   "execution_count": null,
   "metadata": {
    "collapsed": false
   },
   "outputs": [],
   "source": [
    "d = {'a':1, \"b\":2}"
   ]
  },
  {
   "cell_type": "code",
   "execution_count": null,
   "metadata": {
    "collapsed": false
   },
   "outputs": [],
   "source": [
    "d[\"b\"] = 3"
   ]
  },
  {
   "cell_type": "code",
   "execution_count": null,
   "metadata": {
    "collapsed": false
   },
   "outputs": [],
   "source": [
    "str(d)"
   ]
  },
  {
   "cell_type": "code",
   "execution_count": null,
   "metadata": {
    "collapsed": false
   },
   "outputs": [],
   "source": [
    "import pandas as pd\n",
    "import os, shutil"
   ]
  },
  {
   "cell_type": "code",
   "execution_count": null,
   "metadata": {
    "collapsed": false
   },
   "outputs": [],
   "source": [
    "df = pd.read_excel(\"/home/jrj/postgraduate/Symbolic/Backdoor/dataset/verified/real_word.xlsx\")"
   ]
  },
  {
   "cell_type": "code",
   "execution_count": 10,
   "metadata": {
    "collapsed": false
   },
   "outputs": [],
   "source": [
    "path_dict = {\n",
    "  'arbitrarytransfer':  '/home/jrj/postgraduate/Symbolic/Backdoor/dataset/verified/arbitrarilyTransfer',\n",
    "    'destorytoken': '/home/jrj/postgraduate/Symbolic/Backdoor/dataset/verified/DestroyToken',\n",
    "    'disabletransfer': '/home/jrj/postgraduate/Symbolic/Backdoor/dataset/verified/DisableTransfer',\n",
    "    'freezeaccount': '/home/jrj/postgraduate/Symbolic/Backdoor/dataset/verified/FreezeAccount',\n",
    "    'generatetoken': '/home/jrj/postgraduate/Symbolic/Backdoor/dataset/verified/GenerateToken'\n",
    "}\n",
    "for index in df.index:\n",
    "    index_values = df.loc[index].values\n",
    "    dst_path = os.path.join(path_dict[index_values[1].lower()], f\"{index_values[-1]}.sol\")\n",
    "    src_path = os.path.join('/home/jrj/postgraduate/Symbolic/PiedPiperBackdoor/contracts/realworld-contracts', f\"{index_values[-1]}.sol\")\n",
    "    shutil.copyfile(src_path, dst_path)\n"
   ]
  },
  {
   "cell_type": "code",
   "execution_count": 1,
   "metadata": {
    "collapsed": false,
    "ExecuteTime": {
     "end_time": "2024-01-06T14:33:49.479464928Z",
     "start_time": "2024-01-06T14:33:49.474195921Z"
    }
   },
   "outputs": [],
   "source": [
    "import hashlib\n",
    "hash_tool = hashlib.sha3_512()"
   ]
  },
  {
   "cell_type": "code",
   "outputs": [],
   "source": [
    "s = \"abc\"\n",
    "hash_tool.update(s.encode('utf-8'))\n",
    "hex1 = hash_tool.hexdigest()"
   ],
   "metadata": {
    "collapsed": false,
    "ExecuteTime": {
     "end_time": "2024-01-06T14:34:04.914815206Z",
     "start_time": "2024-01-06T14:34:04.832714921Z"
    }
   },
   "execution_count": 2
  },
  {
   "cell_type": "code",
   "outputs": [],
   "source": [
    "s = \"efg\"\n",
    "hash_tool.update(s.encode('utf-8'))\n",
    "hex2 = hash_tool.hexdigest()"
   ],
   "metadata": {
    "collapsed": false,
    "ExecuteTime": {
     "end_time": "2024-01-06T14:34:11.545570186Z",
     "start_time": "2024-01-06T14:34:11.454069896Z"
    }
   },
   "execution_count": 3
  },
  {
   "cell_type": "code",
   "outputs": [],
   "source": [
    "s = \"abc\"\n",
    "hash_tool.update(s.encode('utf-8'))\n",
    "hex3 = hash_tool.hexdigest()"
   ],
   "metadata": {
    "collapsed": false,
    "ExecuteTime": {
     "end_time": "2024-01-06T14:34:21.945962601Z",
     "start_time": "2024-01-06T14:34:21.868566969Z"
    }
   },
   "execution_count": 4
  },
  {
   "cell_type": "code",
   "outputs": [],
   "source": [
    "hash_tool = hashlib.sha3_512()\n",
    "s = \"abc\"\n",
    "hash_tool.update(s.encode('utf-8'))\n",
    "hex4 = hash_tool.hexdigest()"
   ],
   "metadata": {
    "collapsed": false,
    "ExecuteTime": {
     "end_time": "2024-01-06T14:35:01.572152693Z",
     "start_time": "2024-01-06T14:35:01.481060232Z"
    }
   },
   "execution_count": 5
  },
  {
   "cell_type": "code",
   "outputs": [],
   "source": [],
   "metadata": {
    "collapsed": false
   }
  }
 ],
 "metadata": {
  "kernelspec": {
   "display_name": "slither",
   "language": "python",
   "name": "python3"
  },
  "language_info": {
   "codemirror_mode": {
    "name": "ipython",
    "version": 3
   },
   "file_extension": ".py",
   "mimetype": "text/x-python",
   "name": "python",
   "nbconvert_exporter": "python",
   "pygments_lexer": "ipython3",
   "version": "3.8.13"
  },
  "vscode": {
   "interpreter": {
    "hash": "d661b239a35e60021ff68deb13d5a4ddf534071b5c700f9925c82377373be450"
   }
  }
 },
 "nbformat": 4,
 "nbformat_minor": 0
}
