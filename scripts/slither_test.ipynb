{
 "cells": [
  {
   "cell_type": "code",
   "execution_count": 1,
   "id": "44b13248751a5f2a",
   "metadata": {
    "collapsed": false
   },
   "outputs": [],
   "source": [
    "from slither.slither import Slither\n",
    "import re"
   ]
  },
  {
   "cell_type": "code",
   "execution_count": 2,
   "id": "c019e40d",
   "metadata": {
    "ExecuteTime": {
     "end_time": "2024-01-28T05:07:29.995458593Z",
     "start_time": "2024-01-28T05:07:29.954979941Z"
    }
   },
   "outputs": [
    {
     "ename": "NameError",
     "evalue": "name 're' is not defined",
     "output_type": "error",
     "traceback": [
      "\u001B[0;31m---------------------------------------------------------------------------\u001B[0m",
      "\u001B[0;31mNameError\u001B[0m                                 Traceback (most recent call last)",
      "Cell \u001B[0;32mIn[2], line 2\u001B[0m\n\u001B[1;32m      1\u001B[0m s \u001B[38;5;241m=\u001B[39m \u001B[38;5;124m\"\u001B[39m\u001B[38;5;124m_transfer(_msgSender(), recipient, amount);\u001B[39m\u001B[38;5;124m\"\u001B[39m\n\u001B[0;32m----> 2\u001B[0m s \u001B[38;5;241m=\u001B[39m \u001B[43mre\u001B[49m\u001B[38;5;241m.\u001B[39msub(\u001B[38;5;124mr\u001B[39m\u001B[38;5;124m'\u001B[39m\u001B[38;5;124m(?<=[^\u001B[39m\u001B[38;5;124m\\\u001B[39m\u001B[38;5;124m.])\u001B[39m\u001B[38;5;124m\\\u001B[39m\u001B[38;5;124mb_msgSender\u001B[39m\u001B[38;5;124m\\\u001B[39m\u001B[38;5;124m(\u001B[39m\u001B[38;5;124m\\\u001B[39m\u001B[38;5;124m)\u001B[39m\u001B[38;5;124m\\\u001B[39m\u001B[38;5;124mb\u001B[39m\u001B[38;5;124m'\u001B[39m, \u001B[38;5;124m'\u001B[39m\u001B[38;5;124mTMP41\u001B[39m\u001B[38;5;124m'\u001B[39m, s)\n",
      "\u001B[0;31mNameError\u001B[0m: name 're' is not defined"
     ]
    }
   ],
   "source": [
    "s = \"_transfer(_msgSender(), recipient, amount);\"\n",
    "s = re.sub(r'(?<=[^\\.])\\b_msgSender\\(\\)\\b', 'TMP41', s)"
   ]
  },
  {
   "cell_type": "code",
   "execution_count": 5,
   "id": "393256e4",
   "metadata": {},
   "outputs": [
    {
     "name": "stdout",
     "output_type": "stream",
     "text": [
      "This is a replaced and thiskey()word is not a key.\n"
     ]
    }
   ],
   "source": [
    "s = \"This is a key() and thiskey()word is not a key.\"\n",
    "k = \"key()\"\n",
    "v = \"replaced\"\n",
    "\n",
    "# 转义 k 中的特殊字符\n",
    "escaped_k = re.escape(k)\n",
    "\n",
    "# 使用转义后的 k 进行替换\n",
    "result = re.sub(rf'\\b{escaped_k}', v, s)\n",
    "\n",
    "print(result)"
   ]
  }
 ],
 "metadata": {
  "kernelspec": {
   "display_name": "Python 3",
   "language": "python",
   "name": "python3"
  },
  "language_info": {
   "codemirror_mode": {
    "name": "ipython",
    "version": 3
   },
   "file_extension": ".py",
   "mimetype": "text/x-python",
   "name": "python",
   "nbconvert_exporter": "python",
   "pygments_lexer": "ipython3",
   "version": "3.8.16"
  }
 },
 "nbformat": 4,
 "nbformat_minor": 5
}
