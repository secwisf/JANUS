{
 "cells": [
  {
   "cell_type": "code",
   "execution_count": 1,
   "metadata": {},
   "source": [
    "import os\n",
    "import sys\n",
    "import shutil\n",
    "from tqdm import tqdm"
   ],
   "outputs": []
  },
  {
   "cell_type": "code",
   "execution_count": 2,
   "metadata": {
    "ExecuteTime": {
     "end_time": "2023-12-25T09:36:23.712996977Z",
     "start_time": "2023-12-25T09:36:23.639899382Z"
    }
   },
   "source": [
    "origin_folders = os.listdir(\"/home/jrj/postgraduate/Symbolic/Backdoor/dataset/real_world/0.6.x\")\n",
    "select_folders = os.listdir(\"/home/jrj/postgraduate/Symbolic/Backdoor/dataset/real_world_selected/0.6.x\")\n",
    "difference_folders = list(set(origin_folders).difference(select_folders))"
   ],
   "outputs": []
  },
  {
   "cell_type": "code",
   "execution_count": 3,
   "metadata": {},
   "source": [
    "def all_path(dirname, filter_list):\n",
    "    result = []  # 所有的文件\n",
    "    # filter = [\".wav\"]\n",
    "    for maindir, subdir, file_name_list in os.walk(dirname):\n",
    "        for filename in file_name_list:\n",
    "            apath = os.path.join(maindir, filename)  # 合并成一个完整路径\n",
    "            ext = os.path.splitext(apath)[1]\n",
    "            if ext in filter_list:\n",
    "                result.append(apath)\n",
    "    return result"
   ],
   "outputs": []
  },
  {
   "cell_type": "code",
   "execution_count": 3,
   "metadata": {
    "ExecuteTime": {
     "end_time": "2023-12-25T09:36:37.099478505Z",
     "start_time": "2023-12-25T09:36:37.062683389Z"
    }
   },
   "source": [
    "base = \"/home/jrj/postgraduate/Symbolic/Backdoor/dataset/real_world/0.4.x-0.5.x\"\n",
    "for folder in tqdm(difference_folders):\n",
    "    folder_path = os.path.join(base, folder)\n",
    "    files = all_path(folder_path, [\".sol\"])\n",
    "    "
   ],
   "outputs": []
  },
  {
   "cell_type": "code",
   "execution_count": null,
   "metadata": {},
   "source": [],
   "outputs": []
  }
 ],
 "metadata": {
  "kernelspec": {
   "display_name": "slither",
   "language": "python",
   "name": "python3"
  },
  "language_info": {
   "codemirror_mode": {
    "name": "ipython",
    "version": 3
   },
   "file_extension": ".py",
   "mimetype": "text/x-python",
   "name": "python",
   "nbconvert_exporter": "python",
   "pygments_lexer": "ipython3",
   "version": "3.8.16"
  },
  "orig_nbformat": 4
 },
 "nbformat": 4,
 "nbformat_minor": 2
}
